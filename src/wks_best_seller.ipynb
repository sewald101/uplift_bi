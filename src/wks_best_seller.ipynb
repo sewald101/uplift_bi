{
 "cells": [
  {
   "cell_type": "code",
   "execution_count": 69,
   "metadata": {},
   "outputs": [],
   "source": [
    "from datetime import datetime, date, timedelta\n",
    "import numpy as np\n",
    "import pandas as pd\n",
    "from pandas.tseries.offsets import Week\n",
    "\n",
    "from trend_analysis import ProductStatsDF, RankProducts"
   ]
  },
  {
   "cell_type": "code",
   "execution_count": 6,
   "metadata": {},
   "outputs": [],
   "source": [
    "q = datetime(2017, 7, 31)"
   ]
  },
  {
   "cell_type": "code",
   "execution_count": 17,
   "metadata": {},
   "outputs": [
    {
     "data": {
      "text/plain": [
       "DatetimeIndex(['2017-07-02', '2017-07-09', '2017-07-16', '2017-07-23',\n",
       "               '2017-07-30'],\n",
       "              dtype='datetime64[ns]', freq='W-SUN')"
      ]
     },
     "execution_count": 17,
     "metadata": {},
     "output_type": "execute_result"
    }
   ],
   "source": [
    "pd.date_range(end=q, periods=5, freq='W')"
   ]
  },
  {
   "cell_type": "code",
   "execution_count": 143,
   "metadata": {},
   "outputs": [],
   "source": [
    "def generate_dates(end_date, N_periods=10, freq='7D'):\n",
    "    end_dates = []\n",
    "    last_date = datetime.strptime(end_date, '%Y-%m-%d')\n",
    "    d_range = pd.date_range(end=last_date, periods=periods, freq=freq)\n",
    "    for d in d_range:\n",
    "        str_d = d.strftime('%Y-%m-%d')\n",
    "        end_dates.append(str_d)\n",
    "    \n",
    "    return end_dates"
   ]
  },
  {
   "cell_type": "markdown",
   "metadata": {},
   "source": [
    "Pseudocode:\n",
    "def make_data(product_IDs, end_dates, ranked_by='rate'):\n",
    "\n",
    "data = {}\n",
    "for every date in the list of dates:\n",
    "    * create a ProductStatsDF (PSDF) with the date as the end_date\n",
    "    * Initialize a RankProducts (RP) object on the PSDF\n",
    "    * Run main(stat=stat)\n",
    "    * Add date: RP.ranked_IDs to {}\n",
    "        * on first iteration, grab the name of either an RP object or PSDF\n",
    "        \n",
    "df_A = pd.DataFrame(data, index=range(1, len(ProductIDs)+1) \n",
    "df.name = some transformation of the name grabbed above\n",
    "\n",
    "data_B = dict(keys=product_IDs, val=[])\n",
    "for every ser in df_A:\n",
    "    for i, ID in ser:\n",
    "        data_B[ID].append(i+1)\n",
    "        \n",
    "df_B = pd.DataFrame(data_B, cols = df_A.columns, index=Product_IDs)\n",
    "sums = df_B.sum(axis=1)\n",
    "sums_dict = {prod_ID: sum}\n",
    "df_B.name = something\n",
    "\n",
    "return df_A, df_B, sums_dict  \n",
    "        "
   ]
  }
 ],
 "metadata": {
  "anaconda-cloud": {},
  "kernelspec": {
   "display_name": "Python [conda root]",
   "language": "python",
   "name": "conda-root-py"
  },
  "language_info": {
   "codemirror_mode": {
    "name": "ipython",
    "version": 2
   },
   "file_extension": ".py",
   "mimetype": "text/x-python",
   "name": "python",
   "nbconvert_exporter": "python",
   "pygments_lexer": "ipython2",
   "version": "2.7.14"
  }
 },
 "nbformat": 4,
 "nbformat_minor": 2
}
