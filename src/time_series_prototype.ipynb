{
 "cells": [
  {
   "cell_type": "code",
   "execution_count": 1,
   "metadata": {},
   "outputs": [],
   "source": [
    "import numpy as np\n",
    "import pandas as pd\n",
    "import matplotlib.pyplot as plt\n",
    "\n",
    "%matplotlib inline\n",
    "plt.style.use('ggplot')"
   ]
  },
  {
   "cell_type": "code",
   "execution_count": 2,
   "metadata": {},
   "outputs": [],
   "source": [
    "path = '../data/lemon_haze_18.csv'\n",
    "test_path = '../data/test_shard.csv'"
   ]
  },
  {
   "cell_type": "code",
   "execution_count": 355,
   "metadata": {},
   "outputs": [],
   "source": [
    "from convert_to_time_series import TimeSeriesData"
   ]
  },
  {
   "cell_type": "code",
   "execution_count": 356,
   "metadata": {},
   "outputs": [],
   "source": [
    "lemon_haze = TimeSeriesData(path)"
   ]
  },
  {
   "cell_type": "code",
   "execution_count": 357,
   "metadata": {},
   "outputs": [
    {
     "name": "stdout",
     "output_type": "stream",
     "text": [
      "CPU times: user 135 ms, sys: 75.7 ms, total: 211 ms\n",
      "Wall time: 276 ms\n"
     ]
    }
   ],
   "source": [
    "%time lemon_haze.construct_tables()"
   ]
  },
  {
   "cell_type": "code",
   "execution_count": 358,
   "metadata": {},
   "outputs": [],
   "source": [
    "raw = lemon_haze.raw_df\n",
    "inv = lemon_haze.by_inv_id\n",
    "ts = lemon_haze.time_series\n",
    "bl = lemon_haze._bool_matrix\n",
    "sls = lemon_haze._sales_matrix\n",
    "dts = lemon_haze._date_idx"
   ]
  },
  {
   "cell_type": "code",
   "execution_count": 295,
   "metadata": {},
   "outputs": [
    {
     "data": {
      "text/plain": [
       "((1112, 2514), (2514, 2), (1112, 2))"
      ]
     },
     "execution_count": 295,
     "metadata": {},
     "output_type": "execute_result"
    }
   ],
   "source": [
    "bl.shape, sls.shape, ts.shape"
   ]
  },
  {
   "cell_type": "code",
   "execution_count": 359,
   "metadata": {},
   "outputs": [
    {
     "data": {
      "text/html": [
       "<div>\n",
       "<style scoped>\n",
       "    .dataframe tbody tr th:only-of-type {\n",
       "        vertical-align: middle;\n",
       "    }\n",
       "\n",
       "    .dataframe tbody tr th {\n",
       "        vertical-align: top;\n",
       "    }\n",
       "\n",
       "    .dataframe thead th {\n",
       "        text-align: right;\n",
       "    }\n",
       "</style>\n",
       "<table border=\"1\" class=\"dataframe\">\n",
       "  <thead>\n",
       "    <tr style=\"text-align: right;\">\n",
       "      <th></th>\n",
       "      <th>ttl_sales</th>\n",
       "      <th>ttl_gross_profit</th>\n",
       "    </tr>\n",
       "  </thead>\n",
       "  <tbody>\n",
       "    <tr>\n",
       "      <th>2014-07-17</th>\n",
       "      <td>120.945312</td>\n",
       "      <td>78.757812</td>\n",
       "    </tr>\n",
       "    <tr>\n",
       "      <th>2014-07-18</th>\n",
       "      <td>120.945312</td>\n",
       "      <td>78.757812</td>\n",
       "    </tr>\n",
       "    <tr>\n",
       "      <th>2014-07-19</th>\n",
       "      <td>354.418997</td>\n",
       "      <td>249.073602</td>\n",
       "    </tr>\n",
       "    <tr>\n",
       "      <th>2014-07-20</th>\n",
       "      <td>354.418997</td>\n",
       "      <td>249.073602</td>\n",
       "    </tr>\n",
       "    <tr>\n",
       "      <th>2014-07-21</th>\n",
       "      <td>354.418997</td>\n",
       "      <td>249.073602</td>\n",
       "    </tr>\n",
       "  </tbody>\n",
       "</table>\n",
       "</div>"
      ],
      "text/plain": [
       "             ttl_sales  ttl_gross_profit\n",
       "2014-07-17  120.945312         78.757812\n",
       "2014-07-18  120.945312         78.757812\n",
       "2014-07-19  354.418997        249.073602\n",
       "2014-07-20  354.418997        249.073602\n",
       "2014-07-21  354.418997        249.073602"
      ]
     },
     "execution_count": 359,
     "metadata": {},
     "output_type": "execute_result"
    }
   ],
   "source": [
    "ts.head()"
   ]
  },
  {
   "cell_type": "code",
   "execution_count": 281,
   "metadata": {},
   "outputs": [
    {
     "name": "stdout",
     "output_type": "stream",
     "text": [
      "<class 'pandas.core.frame.DataFrame'>\n",
      "RangeIndex: 2514 entries, 0 to 2513\n",
      "Data columns (total 11 columns):\n",
      "wa_inventory_id      2514 non-null int64\n",
      "generic_strain_id    2514 non-null int64\n",
      "first_rtl_sale       2514 non-null datetime64[ns]\n",
      "latest_rtl_sale      2514 non-null datetime64[ns]\n",
      "days_sales           2514 non-null timedelta64[ns]\n",
      "wholesale_cogs       2514 non-null float64\n",
      "ttl_rtl_sales        2514 non-null float64\n",
      "gross_profit         2514 non-null float64\n",
      "avg_daily_sales      2513 non-null float64\n",
      "avg_daily_gross      2513 non-null float64\n",
      "units_sold           2514 non-null int64\n",
      "dtypes: datetime64[ns](2), float64(5), int64(3), timedelta64[ns](1)\n",
      "memory usage: 216.1 KB\n"
     ]
    }
   ],
   "source": [
    "inv.info()"
   ]
  },
  {
   "cell_type": "code",
   "execution_count": 283,
   "metadata": {},
   "outputs": [
    {
     "name": "stdout",
     "output_type": "stream",
     "text": [
      "<class 'pandas.core.frame.DataFrame'>\n",
      "RangeIndex: 1112 entries, 0 to 1111\n",
      "Columns: 2514 entries, 0 to 2513\n",
      "dtypes: bool(2514)\n",
      "memory usage: 2.7 MB\n"
     ]
    }
   ],
   "source": [
    "bl.info()"
   ]
  },
  {
   "cell_type": "code",
   "execution_count": 284,
   "metadata": {},
   "outputs": [
    {
     "name": "stdout",
     "output_type": "stream",
     "text": [
      "<class 'pandas.core.frame.DataFrame'>\n",
      "RangeIndex: 2514 entries, 0 to 2513\n",
      "Data columns (total 2 columns):\n",
      "0    2513 non-null float64\n",
      "1    2513 non-null float64\n",
      "dtypes: float64(2)\n",
      "memory usage: 39.4 KB\n"
     ]
    }
   ],
   "source": [
    "sls.info()"
   ]
  },
  {
   "cell_type": "code",
   "execution_count": 285,
   "metadata": {},
   "outputs": [
    {
     "name": "stdout",
     "output_type": "stream",
     "text": [
      "<class 'pandas.core.frame.DataFrame'>\n",
      "DatetimeIndex: 1112 entries, 2014-07-17 to 2017-08-01\n",
      "Freq: D\n",
      "Data columns (total 2 columns):\n",
      "ttl_sales           0 non-null float64\n",
      "ttl_gross_profit    0 non-null float64\n",
      "dtypes: float64(2)\n",
      "memory usage: 26.1 KB\n"
     ]
    }
   ],
   "source": [
    "ts.info()"
   ]
  },
  {
   "cell_type": "code",
   "execution_count": 352,
   "metadata": {},
   "outputs": [],
   "source": [
    "x = '1 days'"
   ]
  },
  {
   "cell_type": "code",
   "execution_count": 353,
   "metadata": {},
   "outputs": [],
   "source": [
    "inv.loc[inv['days_sales'].apply(lambda x: x.days) == 0, 'days_sales'] = \\\n",
    "    pd.to_timedelta(x)"
   ]
  },
  {
   "cell_type": "code",
   "execution_count": 354,
   "metadata": {},
   "outputs": [
    {
     "data": {
      "text/plain": [
       "0      64 days\n",
       "1      19 days\n",
       "2       2 days\n",
       "3       2 days\n",
       "4       1 days\n",
       "5       5 days\n",
       "6       1 days\n",
       "7       8 days\n",
       "8       8 days\n",
       "9      11 days\n",
       "10      7 days\n",
       "11      8 days\n",
       "12      6 days\n",
       "13     11 days\n",
       "14     13 days\n",
       "15     14 days\n",
       "16     11 days\n",
       "17      9 days\n",
       "18     20 days\n",
       "19      5 days\n",
       "20      3 days\n",
       "21      1 days\n",
       "22     16 days\n",
       "23     12 days\n",
       "24     24 days\n",
       "25      1 days\n",
       "26     30 days\n",
       "27     27 days\n",
       "28      8 days\n",
       "29      6 days\n",
       "         ...  \n",
       "2484    1 days\n",
       "2485    1 days\n",
       "2486    1 days\n",
       "2487    1 days\n",
       "2488    1 days\n",
       "2489    4 days\n",
       "2490    4 days\n",
       "2491    4 days\n",
       "2492    4 days\n",
       "2493    2 days\n",
       "2494    1 days\n",
       "2495    1 days\n",
       "2496    3 days\n",
       "2497    1 days\n",
       "2498    1 days\n",
       "2499    3 days\n",
       "2500    2 days\n",
       "2501    2 days\n",
       "2502    1 days\n",
       "2503    1 days\n",
       "2504    2 days\n",
       "2505    1 days\n",
       "2506    2 days\n",
       "2507    3 days\n",
       "2508    1 days\n",
       "2509    1 days\n",
       "2510    1 days\n",
       "2511    1 days\n",
       "2512    1 days\n",
       "2513    1 days\n",
       "Name: days_sales, Length: 2514, dtype: timedelta64[ns]"
      ]
     },
     "execution_count": 354,
     "metadata": {},
     "output_type": "execute_result"
    }
   ],
   "source": [
    "inv['days_sales']"
   ]
  },
  {
   "cell_type": "code",
   "execution_count": null,
   "metadata": {},
   "outputs": [],
   "source": []
  }
 ],
 "metadata": {
  "anaconda-cloud": {},
  "kernelspec": {
   "display_name": "Python [conda root]",
   "language": "python",
   "name": "conda-root-py"
  },
  "language_info": {
   "codemirror_mode": {
    "name": "ipython",
    "version": 2
   },
   "file_extension": ".py",
   "mimetype": "text/x-python",
   "name": "python",
   "nbconvert_exporter": "python",
   "pygments_lexer": "ipython2",
   "version": "2.7.14"
  }
 },
 "nbformat": 4,
 "nbformat_minor": 2
}
