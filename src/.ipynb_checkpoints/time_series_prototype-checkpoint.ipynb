{
 "cells": [
  {
   "cell_type": "code",
   "execution_count": 373,
   "metadata": {},
   "outputs": [],
   "source": [
    "import numpy as np\n",
    "import pandas as pd\n",
    "import matplotlib.pyplot as plt\n",
    "\n",
    "%matplotlib inline\n",
    "plt.style.use('ggplot')"
   ]
  },
  {
   "cell_type": "code",
   "execution_count": 2,
   "metadata": {},
   "outputs": [],
   "source": [
    "path = '../data/lemon_haze_18.csv'\n",
    "test_path = '../data/test_shard.csv'"
   ]
  },
  {
   "cell_type": "code",
   "execution_count": 355,
   "metadata": {},
   "outputs": [],
   "source": [
    "from convert_to_time_series import TimeSeriesData"
   ]
  },
  {
   "cell_type": "code",
   "execution_count": 356,
   "metadata": {},
   "outputs": [],
   "source": [
    "lemon_haze = TimeSeriesData(path)"
   ]
  },
  {
   "cell_type": "code",
   "execution_count": 357,
   "metadata": {},
   "outputs": [
    {
     "name": "stdout",
     "output_type": "stream",
     "text": [
      "CPU times: user 135 ms, sys: 75.7 ms, total: 211 ms\n",
      "Wall time: 276 ms\n"
     ]
    }
   ],
   "source": [
    "%time lemon_haze.construct_tables()"
   ]
  },
  {
   "cell_type": "code",
   "execution_count": 358,
   "metadata": {},
   "outputs": [],
   "source": [
    "raw = lemon_haze.raw_df\n",
    "inv = lemon_haze.by_inv_id\n",
    "ts = lemon_haze.time_series\n",
    "bl = lemon_haze._bool_matrix\n",
    "sls = lemon_haze._sales_matrix\n",
    "dts = lemon_haze._date_idx"
   ]
  },
  {
   "cell_type": "code",
   "execution_count": 360,
   "metadata": {},
   "outputs": [
    {
     "data": {
      "text/plain": [
       "((1112, 2514), (2514, 2), (1112, 2))"
      ]
     },
     "execution_count": 360,
     "metadata": {},
     "output_type": "execute_result"
    }
   ],
   "source": [
    "bl.shape, sls.shape, ts.shape"
   ]
  },
  {
   "cell_type": "code",
   "execution_count": 361,
   "metadata": {},
   "outputs": [
    {
     "data": {
      "text/html": [
       "<div>\n",
       "<style scoped>\n",
       "    .dataframe tbody tr th:only-of-type {\n",
       "        vertical-align: middle;\n",
       "    }\n",
       "\n",
       "    .dataframe tbody tr th {\n",
       "        vertical-align: top;\n",
       "    }\n",
       "\n",
       "    .dataframe thead th {\n",
       "        text-align: right;\n",
       "    }\n",
       "</style>\n",
       "<table border=\"1\" class=\"dataframe\">\n",
       "  <thead>\n",
       "    <tr style=\"text-align: right;\">\n",
       "      <th></th>\n",
       "      <th>ttl_sales</th>\n",
       "      <th>ttl_gross_profit</th>\n",
       "    </tr>\n",
       "  </thead>\n",
       "  <tbody>\n",
       "    <tr>\n",
       "      <th>count</th>\n",
       "      <td>1112.000000</td>\n",
       "      <td>1112.000000</td>\n",
       "    </tr>\n",
       "    <tr>\n",
       "      <th>mean</th>\n",
       "      <td>1620.733130</td>\n",
       "      <td>827.516971</td>\n",
       "    </tr>\n",
       "    <tr>\n",
       "      <th>std</th>\n",
       "      <td>1408.668914</td>\n",
       "      <td>871.934455</td>\n",
       "    </tr>\n",
       "    <tr>\n",
       "      <th>min</th>\n",
       "      <td>28.815603</td>\n",
       "      <td>-6224.918215</td>\n",
       "    </tr>\n",
       "    <tr>\n",
       "      <th>25%</th>\n",
       "      <td>497.311312</td>\n",
       "      <td>265.922448</td>\n",
       "    </tr>\n",
       "    <tr>\n",
       "      <th>50%</th>\n",
       "      <td>1479.852908</td>\n",
       "      <td>780.513933</td>\n",
       "    </tr>\n",
       "    <tr>\n",
       "      <th>75%</th>\n",
       "      <td>2366.044298</td>\n",
       "      <td>1182.099121</td>\n",
       "    </tr>\n",
       "    <tr>\n",
       "      <th>max</th>\n",
       "      <td>15165.420750</td>\n",
       "      <td>10259.691156</td>\n",
       "    </tr>\n",
       "  </tbody>\n",
       "</table>\n",
       "</div>"
      ],
      "text/plain": [
       "          ttl_sales  ttl_gross_profit\n",
       "count   1112.000000       1112.000000\n",
       "mean    1620.733130        827.516971\n",
       "std     1408.668914        871.934455\n",
       "min       28.815603      -6224.918215\n",
       "25%      497.311312        265.922448\n",
       "50%     1479.852908        780.513933\n",
       "75%     2366.044298       1182.099121\n",
       "max    15165.420750      10259.691156"
      ]
     },
     "execution_count": 361,
     "metadata": {},
     "output_type": "execute_result"
    }
   ],
   "source": [
    "ts.describe()"
   ]
  },
  {
   "cell_type": "code",
   "execution_count": 368,
   "metadata": {},
   "outputs": [
    {
     "data": {
      "text/html": [
       "<div>\n",
       "<style scoped>\n",
       "    .dataframe tbody tr th:only-of-type {\n",
       "        vertical-align: middle;\n",
       "    }\n",
       "\n",
       "    .dataframe tbody tr th {\n",
       "        vertical-align: top;\n",
       "    }\n",
       "\n",
       "    .dataframe thead th {\n",
       "        text-align: right;\n",
       "    }\n",
       "</style>\n",
       "<table border=\"1\" class=\"dataframe\">\n",
       "  <thead>\n",
       "    <tr style=\"text-align: right;\">\n",
       "      <th></th>\n",
       "      <th>ttl_sales</th>\n",
       "      <th>ttl_gross_profit</th>\n",
       "    </tr>\n",
       "  </thead>\n",
       "  <tbody>\n",
       "    <tr>\n",
       "      <th>2014-08-01</th>\n",
       "      <td>12397.920750</td>\n",
       "      <td>8372.191156</td>\n",
       "    </tr>\n",
       "    <tr>\n",
       "      <th>2014-08-02</th>\n",
       "      <td>15165.420750</td>\n",
       "      <td>10259.691156</td>\n",
       "    </tr>\n",
       "    <tr>\n",
       "      <th>2014-08-03</th>\n",
       "      <td>10867.990750</td>\n",
       "      <td>7370.261156</td>\n",
       "    </tr>\n",
       "    <tr>\n",
       "      <th>2014-08-04</th>\n",
       "      <td>13652.055750</td>\n",
       "      <td>9274.326156</td>\n",
       "    </tr>\n",
       "    <tr>\n",
       "      <th>2014-08-05</th>\n",
       "      <td>10884.555750</td>\n",
       "      <td>7386.826156</td>\n",
       "    </tr>\n",
       "    <tr>\n",
       "      <th>2014-08-06</th>\n",
       "      <td>5349.555750</td>\n",
       "      <td>3611.826156</td>\n",
       "    </tr>\n",
       "    <tr>\n",
       "      <th>2014-09-13</th>\n",
       "      <td>6512.748225</td>\n",
       "      <td>4765.073196</td>\n",
       "    </tr>\n",
       "    <tr>\n",
       "      <th>2014-09-14</th>\n",
       "      <td>6512.748225</td>\n",
       "      <td>4765.073196</td>\n",
       "    </tr>\n",
       "    <tr>\n",
       "      <th>2014-09-15</th>\n",
       "      <td>6512.748225</td>\n",
       "      <td>4765.073196</td>\n",
       "    </tr>\n",
       "    <tr>\n",
       "      <th>2014-09-16</th>\n",
       "      <td>6512.748225</td>\n",
       "      <td>4765.073196</td>\n",
       "    </tr>\n",
       "    <tr>\n",
       "      <th>2014-09-17</th>\n",
       "      <td>5726.239892</td>\n",
       "      <td>4163.497363</td>\n",
       "    </tr>\n",
       "    <tr>\n",
       "      <th>2014-09-18</th>\n",
       "      <td>5726.239892</td>\n",
       "      <td>4163.497363</td>\n",
       "    </tr>\n",
       "    <tr>\n",
       "      <th>2017-07-03</th>\n",
       "      <td>5218.845193</td>\n",
       "      <td>2450.003684</td>\n",
       "    </tr>\n",
       "    <tr>\n",
       "      <th>2017-07-04</th>\n",
       "      <td>5103.841319</td>\n",
       "      <td>2422.403261</td>\n",
       "    </tr>\n",
       "  </tbody>\n",
       "</table>\n",
       "</div>"
      ],
      "text/plain": [
       "               ttl_sales  ttl_gross_profit\n",
       "2014-08-01  12397.920750       8372.191156\n",
       "2014-08-02  15165.420750      10259.691156\n",
       "2014-08-03  10867.990750       7370.261156\n",
       "2014-08-04  13652.055750       9274.326156\n",
       "2014-08-05  10884.555750       7386.826156\n",
       "2014-08-06   5349.555750       3611.826156\n",
       "2014-09-13   6512.748225       4765.073196\n",
       "2014-09-14   6512.748225       4765.073196\n",
       "2014-09-15   6512.748225       4765.073196\n",
       "2014-09-16   6512.748225       4765.073196\n",
       "2014-09-17   5726.239892       4163.497363\n",
       "2014-09-18   5726.239892       4163.497363\n",
       "2017-07-03   5218.845193       2450.003684\n",
       "2017-07-04   5103.841319       2422.403261"
      ]
     },
     "execution_count": 368,
     "metadata": {},
     "output_type": "execute_result"
    }
   ],
   "source": [
    "ts[ts['ttl_sales'] > 5000]"
   ]
  },
  {
   "cell_type": "code",
   "execution_count": 372,
   "metadata": {},
   "outputs": [
    {
     "data": {
      "image/png": "[encoded data removed]",
      "text/plain": [
       "<matplotlib.figure.Figure at 0x118c41b50>"
      ]
     },
     "metadata": {},
     "output_type": "display_data"
    }
   ],
   "source": [
    "plt.hist(ts['ttl_sales'], bins=50)\n",
    "plt.show()"
   ]
  },
  {
   "cell_type": "code",
   "execution_count": 378,
   "metadata": {},
   "outputs": [
    {
     "data": {
      "image/png": "[encoded data removed]",
      "text/plain": [
       "<matplotlib.figure.Figure at 0x1192b2910>"
      ]
     },
     "metadata": {},
     "output_type": "display_data"
    }
   ],
   "source": [
    "fig, ax = plt.subplots(figsize=(15,5))\n",
    "\n",
    "plt.plot(ts.index, ts['ttl_sales'])\n",
    "plt.show()"
   ]
  },
  {
   "cell_type": "code",
   "execution_count": 283,
   "metadata": {},
   "outputs": [
    {
     "name": "stdout",
     "output_type": "stream",
     "text": [
      "<class 'pandas.core.frame.DataFrame'>\n",
      "RangeIndex: 1112 entries, 0 to 1111\n",
      "Columns: 2514 entries, 0 to 2513\n",
      "dtypes: bool(2514)\n",
      "memory usage: 2.7 MB\n"
     ]
    }
   ],
   "source": [
    "bl.info()"
   ]
  },
  {
   "cell_type": "code",
   "execution_count": 284,
   "metadata": {},
   "outputs": [
    {
     "name": "stdout",
     "output_type": "stream",
     "text": [
      "<class 'pandas.core.frame.DataFrame'>\n",
      "RangeIndex: 2514 entries, 0 to 2513\n",
      "Data columns (total 2 columns):\n",
      "0    2513 non-null float64\n",
      "1    2513 non-null float64\n",
      "dtypes: float64(2)\n",
      "memory usage: 39.4 KB\n"
     ]
    }
   ],
   "source": [
    "sls.info()"
   ]
  },
  {
   "cell_type": "code",
   "execution_count": 285,
   "metadata": {},
   "outputs": [
    {
     "name": "stdout",
     "output_type": "stream",
     "text": [
      "<class 'pandas.core.frame.DataFrame'>\n",
      "DatetimeIndex: 1112 entries, 2014-07-17 to 2017-08-01\n",
      "Freq: D\n",
      "Data columns (total 2 columns):\n",
      "ttl_sales           0 non-null float64\n",
      "ttl_gross_profit    0 non-null float64\n",
      "dtypes: float64(2)\n",
      "memory usage: 26.1 KB\n"
     ]
    }
   ],
   "source": [
    "ts.info()"
   ]
  },
  {
   "cell_type": "code",
   "execution_count": null,
   "metadata": {},
   "outputs": [],
   "source": []
  }
 ],
 "metadata": {
  "anaconda-cloud": {},
  "kernelspec": {
   "display_name": "Python [conda root]",
   "language": "python",
   "name": "conda-root-py"
  },
  "language_info": {
   "codemirror_mode": {
    "name": "ipython",
    "version": 2
   },
   "file_extension": ".py",
   "mimetype": "text/x-python",
   "name": "python",
   "nbconvert_exporter": "python",
   "pygments_lexer": "ipython2",
   "version": "2.7.14"
  }
 },
 "nbformat": 4,
 "nbformat_minor": 2
}
