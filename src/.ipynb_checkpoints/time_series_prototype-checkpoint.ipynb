{
 "cells": [
  {
   "cell_type": "code",
   "execution_count": 1,
   "metadata": {},
   "outputs": [],
   "source": [
    "import numpy as np\n",
    "import pandas as pd\n",
    "import matplotlib.pyplot as plt\n",
    "\n",
    "%matplotlib inline\n",
    "plt.style.use('ggplot')"
   ]
  },
  {
   "cell_type": "markdown",
   "metadata": {},
   "source": [
    "### First task: Convert raw data into dataframes:\n",
    "1. Sales, etc. by inventory_id\n",
    "2. Aggregate sales, etc. by data"
   ]
  },
  {
   "cell_type": "code",
   "execution_count": 2,
   "metadata": {},
   "outputs": [],
   "source": [
    "path = '../data/lemon_haze_18.csv'\n",
    "test_path = '../data/test_shard.csv'"
   ]
  },
  {
   "cell_type": "code",
   "execution_count": null,
   "metadata": {},
   "outputs": [],
   "source": [
    "df_raw = pd.read_csv(path, parse_dates=[2, 3])\n",
    "df_raw.head()"
   ]
  },
  {
   "cell_type": "code",
   "execution_count": null,
   "metadata": {},
   "outputs": [],
   "source": [
    "df_raw.info()"
   ]
  },
  {
   "cell_type": "code",
   "execution_count": null,
   "metadata": {},
   "outputs": [],
   "source": [
    "by_inv_id = df_raw.copy()"
   ]
  },
  {
   "cell_type": "code",
   "execution_count": null,
   "metadata": {},
   "outputs": [],
   "source": [
    "by_inv_id['days_inventory'] = by_inv_id['latest_rtl_sale'] - by_inv_id['wholesale_date']"
   ]
  },
  {
   "cell_type": "code",
   "execution_count": null,
   "metadata": {},
   "outputs": [],
   "source": [
    "by_inv_id['gross_profit'] = by_inv_id['ttl_retail_sales'] - by_inv_id['wholesale_cogs']"
   ]
  },
  {
   "cell_type": "code",
   "execution_count": null,
   "metadata": {},
   "outputs": [],
   "source": [
    "by_inv_id.info()"
   ]
  },
  {
   "cell_type": "code",
   "execution_count": null,
   "metadata": {},
   "outputs": [],
   "source": [
    "q = by_inv_id.loc[0, 'days_inventory']"
   ]
  },
  {
   "cell_type": "code",
   "execution_count": null,
   "metadata": {},
   "outputs": [],
   "source": []
  },
  {
   "cell_type": "code",
   "execution_count": null,
   "metadata": {},
   "outputs": [],
   "source": [
    "by_inv_id['avg_daily_sales'] = \\\n",
    "by_inv_id['ttl_retail_sales'] / by_inv_id['days_inventory'].apply(lambda x: float(x.days))"
   ]
  },
  {
   "cell_type": "code",
   "execution_count": null,
   "metadata": {},
   "outputs": [],
   "source": [
    "by_inv_id['avg_daily_gross'] = \\\n",
    "by_inv_id['gross_profit'] / by_inv_id['days_inventory'].apply(lambda x: float(x.days))"
   ]
  },
  {
   "cell_type": "code",
   "execution_count": null,
   "metadata": {},
   "outputs": [],
   "source": [
    "by_inv_id.head()"
   ]
  },
  {
   "cell_type": "code",
   "execution_count": null,
   "metadata": {},
   "outputs": [],
   "source": [
    "cols = [\n",
    "    'wa_inventory_id',\n",
    "    'generic_strain_id',\n",
    "    'wholesale_date',\n",
    "    'latest_rtl_sale',\n",
    "    'days_inventory',\n",
    "    'wholesale_cogs',\n",
    "    'ttl_retail_sales',\n",
    "    'gross_profit',\n",
    "    'avg_daily_sales',\n",
    "    'avg_daily_gross',\n",
    "    'units_sold'\n",
    "]"
   ]
  },
  {
   "cell_type": "code",
   "execution_count": null,
   "metadata": {},
   "outputs": [],
   "source": [
    "by_inv_id = by_inv_id[cols]"
   ]
  },
  {
   "cell_type": "code",
   "execution_count": null,
   "metadata": {},
   "outputs": [],
   "source": [
    "by_inv_id.head()"
   ]
  },
  {
   "cell_type": "code",
   "execution_count": null,
   "metadata": {},
   "outputs": [],
   "source": [
    "def convert_to_by_inventory_id_sales(df):\n",
    "    \"\"\"Convert raw strain df to output sales by inventory_id df\n",
    "    INPUT RAW DF:\n",
    "        Data columns (total 7 columns):\n",
    "        wa_inventory_id      2565 non-null int64\n",
    "        generic_strain_id    2565 non-null int64\n",
    "        wholesale_date       2563 non-null datetime64[ns]\n",
    "        latest_rtl_sale      2514 non-null datetime64[ns]\n",
    "        wholesale_cogs       2565 non-null float64\n",
    "        ttl_retail_sales     2514 non-null float64\n",
    "        units_sold           2514 non-null float64\n",
    "    \"\"\"\n",
    "    "
   ]
  },
  {
   "cell_type": "code",
   "execution_count": null,
   "metadata": {},
   "outputs": [],
   "source": [
    "shard = by_inv_id[:5][['wa_inventory_id', 'wholesale_date', 'latest_rtl_sale', 'avg_daily_sales', 'avg_daily_gross']]"
   ]
  },
  {
   "cell_type": "code",
   "execution_count": null,
   "metadata": {},
   "outputs": [],
   "source": [
    "shard"
   ]
  },
  {
   "cell_type": "code",
   "execution_count": null,
   "metadata": {},
   "outputs": [],
   "source": [
    "# This is our index\n",
    "q_range = pd.date_range(shard['wholesale_date'].min(), shard['latest_rtl_sale'].max())"
   ]
  },
  {
   "cell_type": "code",
   "execution_count": null,
   "metadata": {},
   "outputs": [],
   "source": [
    "q_piv = pd.DataFrame(0, index=q_range, columns=shard['wa_inventory_id'])"
   ]
  },
  {
   "cell_type": "code",
   "execution_count": null,
   "metadata": {},
   "outputs": [],
   "source": [
    "q_piv.head()\n",
    "# From here, it's a boolean: index date in the date range embedded in column inventory_id?"
   ]
  },
  {
   "cell_type": "code",
   "execution_count": null,
   "metadata": {},
   "outputs": [],
   "source": [
    "# Making the first factor: a boolean dataframe indexed by each date in overall range\n",
    "# boolean being whether the date index is found in the date_range when the inventory_id\n",
    "# was in retail inventory\n",
    "\n",
    "matrix_list = []\n",
    "for date in q_range.strftime('%Y-%m-%d'):\n",
    "    date_bool = []\n",
    "    for record in shard.iterrows():\n",
    "        date_bool.append(date in pd.date_range(record[1][1], record[1][2]))\n",
    "    matrix_list.append(date_bool)\n",
    "\n",
    "\n",
    "shard_bool = pd.DataFrame(matrix_list, index=q_range, columns=shard['wa_inventory_id'])"
   ]
  },
  {
   "cell_type": "code",
   "execution_count": null,
   "metadata": {},
   "outputs": [],
   "source": [
    "# Making the second factor: the vector of daily average sales per inventory_id\n",
    "sales = shard[['avg_daily_sales', 'avg_daily_gross']].values.reshape(len(shard['avg_daily_sales']), 2)"
   ]
  },
  {
   "cell_type": "code",
   "execution_count": null,
   "metadata": {},
   "outputs": [],
   "source": [
    "shard_bool.shape, sales.shape"
   ]
  },
  {
   "cell_type": "code",
   "execution_count": null,
   "metadata": {},
   "outputs": [],
   "source": [
    "ttl_sales_n_profit = shard_bool.dot(sales) # ugly, but done. Could add the gross profit column"
   ]
  },
  {
   "cell_type": "code",
   "execution_count": null,
   "metadata": {},
   "outputs": [],
   "source": [
    "ttl_sales_n_profit.columns = ['ttl_sales', 'ttl_gross']"
   ]
  },
  {
   "cell_type": "code",
   "execution_count": null,
   "metadata": {},
   "outputs": [],
   "source": [
    "ttl_sales_n_profit.head(15)"
   ]
  },
  {
   "cell_type": "code",
   "execution_count": null,
   "metadata": {},
   "outputs": [],
   "source": [
    "import os\n",
    "import sys\n"
   ]
  },
  {
   "cell_type": "code",
   "execution_count": 7,
   "metadata": {},
   "outputs": [],
   "source": [
    "from convert_to_time_series import TimeSeriesData"
   ]
  },
  {
   "cell_type": "code",
   "execution_count": 8,
   "metadata": {},
   "outputs": [],
   "source": [
    "lemon_haze = TimeSeriesData(test_path)"
   ]
  },
  {
   "cell_type": "code",
   "execution_count": 9,
   "metadata": {},
   "outputs": [],
   "source": [
    "lemon_haze.construct()"
   ]
  },
  {
   "cell_type": "code",
   "execution_count": 10,
   "metadata": {},
   "outputs": [],
   "source": [
    "ts = lemon_haze.time_series\n",
    "raw = lemon_haze.raw_df\n",
    "inv = lemon_haze.by_inv_id"
   ]
  },
  {
   "cell_type": "code",
   "execution_count": 17,
   "metadata": {},
   "outputs": [
    {
     "data": {
      "text/html": [
       "<div>\n",
       "<style scoped>\n",
       "    .dataframe tbody tr th:only-of-type {\n",
       "        vertical-align: middle;\n",
       "    }\n",
       "\n",
       "    .dataframe tbody tr th {\n",
       "        vertical-align: top;\n",
       "    }\n",
       "\n",
       "    .dataframe thead th {\n",
       "        text-align: right;\n",
       "    }\n",
       "</style>\n",
       "<table border=\"1\" class=\"dataframe\">\n",
       "  <thead>\n",
       "    <tr style=\"text-align: right;\">\n",
       "      <th></th>\n",
       "      <th>ttl_sales</th>\n",
       "      <th>ttl_gross_profit</th>\n",
       "    </tr>\n",
       "  </thead>\n",
       "  <tbody>\n",
       "    <tr>\n",
       "      <th>count</th>\n",
       "      <td>504.000000</td>\n",
       "      <td>504.000000</td>\n",
       "    </tr>\n",
       "    <tr>\n",
       "      <th>mean</th>\n",
       "      <td>567.260738</td>\n",
       "      <td>377.614660</td>\n",
       "    </tr>\n",
       "    <tr>\n",
       "      <th>std</th>\n",
       "      <td>1164.743274</td>\n",
       "      <td>805.932737</td>\n",
       "    </tr>\n",
       "    <tr>\n",
       "      <th>min</th>\n",
       "      <td>1.770833</td>\n",
       "      <td>1.008929</td>\n",
       "    </tr>\n",
       "    <tr>\n",
       "      <th>25%</th>\n",
       "      <td>22.082567</td>\n",
       "      <td>12.398938</td>\n",
       "    </tr>\n",
       "    <tr>\n",
       "      <th>50%</th>\n",
       "      <td>354.418997</td>\n",
       "      <td>219.468618</td>\n",
       "    </tr>\n",
       "    <tr>\n",
       "      <th>75%</th>\n",
       "      <td>495.694243</td>\n",
       "      <td>315.480473</td>\n",
       "    </tr>\n",
       "    <tr>\n",
       "      <th>max</th>\n",
       "      <td>9964.563845</td>\n",
       "      <td>6744.314410</td>\n",
       "    </tr>\n",
       "  </tbody>\n",
       "</table>\n",
       "</div>"
      ],
      "text/plain": [
       "         ttl_sales  ttl_gross_profit\n",
       "count   504.000000        504.000000\n",
       "mean    567.260738        377.614660\n",
       "std    1164.743274        805.932737\n",
       "min       1.770833          1.008929\n",
       "25%      22.082567         12.398938\n",
       "50%     354.418997        219.468618\n",
       "75%     495.694243        315.480473\n",
       "max    9964.563845       6744.314410"
      ]
     },
     "execution_count": 17,
     "metadata": {},
     "output_type": "execute_result"
    }
   ],
   "source": [
    "ts.describe()"
   ]
  },
  {
   "cell_type": "code",
   "execution_count": 12,
   "metadata": {},
   "outputs": [
    {
     "data": {
      "text/html": [
       "<div>\n",
       "<style scoped>\n",
       "    .dataframe tbody tr th:only-of-type {\n",
       "        vertical-align: middle;\n",
       "    }\n",
       "\n",
       "    .dataframe tbody tr th {\n",
       "        vertical-align: top;\n",
       "    }\n",
       "\n",
       "    .dataframe thead th {\n",
       "        text-align: right;\n",
       "    }\n",
       "</style>\n",
       "<table border=\"1\" class=\"dataframe\">\n",
       "  <thead>\n",
       "    <tr style=\"text-align: right;\">\n",
       "      <th></th>\n",
       "      <th>wa_inventory_id</th>\n",
       "      <th>generic_strain_id</th>\n",
       "      <th>wholesale_date</th>\n",
       "      <th>latest_rtl_sale</th>\n",
       "      <th>wholesale_cogs</th>\n",
       "      <th>ttl_retail_sales</th>\n",
       "      <th>units_sold</th>\n",
       "    </tr>\n",
       "  </thead>\n",
       "  <tbody>\n",
       "    <tr>\n",
       "      <th>0</th>\n",
       "      <td>6033240110000277</td>\n",
       "      <td>18</td>\n",
       "      <td>2014-07-17</td>\n",
       "      <td>2014-09-19</td>\n",
       "      <td>2700.0</td>\n",
       "      <td>7740.50</td>\n",
       "      <td>150</td>\n",
       "    </tr>\n",
       "    <tr>\n",
       "      <th>1</th>\n",
       "      <td>6033240110000284</td>\n",
       "      <td>18</td>\n",
       "      <td>2014-07-19</td>\n",
       "      <td>2014-08-07</td>\n",
       "      <td>1200.0</td>\n",
       "      <td>4436.00</td>\n",
       "      <td>100</td>\n",
       "    </tr>\n",
       "    <tr>\n",
       "      <th>2</th>\n",
       "      <td>6033240110000316</td>\n",
       "      <td>18</td>\n",
       "      <td>2014-07-30</td>\n",
       "      <td>2014-08-03</td>\n",
       "      <td>1760.0</td>\n",
       "      <td>5501.87</td>\n",
       "      <td>100</td>\n",
       "    </tr>\n",
       "    <tr>\n",
       "      <th>3</th>\n",
       "      <td>6033240110000314</td>\n",
       "      <td>18</td>\n",
       "      <td>2014-07-30</td>\n",
       "      <td>2014-08-08</td>\n",
       "      <td>1760.0</td>\n",
       "      <td>5313.60</td>\n",
       "      <td>96</td>\n",
       "    </tr>\n",
       "    <tr>\n",
       "      <th>4</th>\n",
       "      <td>6033240110000315</td>\n",
       "      <td>18</td>\n",
       "      <td>2014-07-30</td>\n",
       "      <td>2014-08-04</td>\n",
       "      <td>1760.0</td>\n",
       "      <td>5535.00</td>\n",
       "      <td>100</td>\n",
       "    </tr>\n",
       "  </tbody>\n",
       "</table>\n",
       "</div>"
      ],
      "text/plain": [
       "    wa_inventory_id  generic_strain_id wholesale_date latest_rtl_sale  \\\n",
       "0  6033240110000277                 18     2014-07-17      2014-09-19   \n",
       "1  6033240110000284                 18     2014-07-19      2014-08-07   \n",
       "2  6033240110000316                 18     2014-07-30      2014-08-03   \n",
       "3  6033240110000314                 18     2014-07-30      2014-08-08   \n",
       "4  6033240110000315                 18     2014-07-30      2014-08-04   \n",
       "\n",
       "   wholesale_cogs  ttl_retail_sales  units_sold  \n",
       "0          2700.0           7740.50         150  \n",
       "1          1200.0           4436.00         100  \n",
       "2          1760.0           5501.87         100  \n",
       "3          1760.0           5313.60          96  \n",
       "4          1760.0           5535.00         100  "
      ]
     },
     "execution_count": 12,
     "metadata": {},
     "output_type": "execute_result"
    }
   ],
   "source": [
    "raw.head()"
   ]
  },
  {
   "cell_type": "code",
   "execution_count": 13,
   "metadata": {},
   "outputs": [
    {
     "data": {
      "text/html": [
       "<div>\n",
       "<style scoped>\n",
       "    .dataframe tbody tr th:only-of-type {\n",
       "        vertical-align: middle;\n",
       "    }\n",
       "\n",
       "    .dataframe tbody tr th {\n",
       "        vertical-align: top;\n",
       "    }\n",
       "\n",
       "    .dataframe thead th {\n",
       "        text-align: right;\n",
       "    }\n",
       "</style>\n",
       "<table border=\"1\" class=\"dataframe\">\n",
       "  <thead>\n",
       "    <tr style=\"text-align: right;\">\n",
       "      <th></th>\n",
       "      <th>wa_inventory_id</th>\n",
       "      <th>generic_strain_id</th>\n",
       "      <th>wholesale_date</th>\n",
       "      <th>latest_rtl_sale</th>\n",
       "      <th>days_inventory</th>\n",
       "      <th>wholesale_cogs</th>\n",
       "      <th>ttl_retail_sales</th>\n",
       "      <th>gross_profit</th>\n",
       "      <th>avg_daily_sales</th>\n",
       "      <th>avg_daily_gross</th>\n",
       "      <th>units_sold</th>\n",
       "    </tr>\n",
       "  </thead>\n",
       "  <tbody>\n",
       "    <tr>\n",
       "      <th>0</th>\n",
       "      <td>6033240110000277</td>\n",
       "      <td>18</td>\n",
       "      <td>2014-07-17</td>\n",
       "      <td>2014-09-19</td>\n",
       "      <td>64 days</td>\n",
       "      <td>2700.0</td>\n",
       "      <td>7740.50</td>\n",
       "      <td>5040.50</td>\n",
       "      <td>120.945312</td>\n",
       "      <td>78.757812</td>\n",
       "      <td>150</td>\n",
       "    </tr>\n",
       "    <tr>\n",
       "      <th>1</th>\n",
       "      <td>6033240110000284</td>\n",
       "      <td>18</td>\n",
       "      <td>2014-07-19</td>\n",
       "      <td>2014-08-07</td>\n",
       "      <td>19 days</td>\n",
       "      <td>1200.0</td>\n",
       "      <td>4436.00</td>\n",
       "      <td>3236.00</td>\n",
       "      <td>233.473684</td>\n",
       "      <td>170.315789</td>\n",
       "      <td>100</td>\n",
       "    </tr>\n",
       "    <tr>\n",
       "      <th>2</th>\n",
       "      <td>6033240110000316</td>\n",
       "      <td>18</td>\n",
       "      <td>2014-07-30</td>\n",
       "      <td>2014-08-03</td>\n",
       "      <td>4 days</td>\n",
       "      <td>1760.0</td>\n",
       "      <td>5501.87</td>\n",
       "      <td>3741.87</td>\n",
       "      <td>1375.467500</td>\n",
       "      <td>935.467500</td>\n",
       "      <td>100</td>\n",
       "    </tr>\n",
       "    <tr>\n",
       "      <th>3</th>\n",
       "      <td>6033240110000314</td>\n",
       "      <td>18</td>\n",
       "      <td>2014-07-30</td>\n",
       "      <td>2014-08-08</td>\n",
       "      <td>9 days</td>\n",
       "      <td>1760.0</td>\n",
       "      <td>5313.60</td>\n",
       "      <td>3553.60</td>\n",
       "      <td>590.400000</td>\n",
       "      <td>394.844444</td>\n",
       "      <td>96</td>\n",
       "    </tr>\n",
       "    <tr>\n",
       "      <th>4</th>\n",
       "      <td>6033240110000315</td>\n",
       "      <td>18</td>\n",
       "      <td>2014-07-30</td>\n",
       "      <td>2014-08-04</td>\n",
       "      <td>5 days</td>\n",
       "      <td>1760.0</td>\n",
       "      <td>5535.00</td>\n",
       "      <td>3775.00</td>\n",
       "      <td>1107.000000</td>\n",
       "      <td>755.000000</td>\n",
       "      <td>100</td>\n",
       "    </tr>\n",
       "  </tbody>\n",
       "</table>\n",
       "</div>"
      ],
      "text/plain": [
       "    wa_inventory_id  generic_strain_id wholesale_date latest_rtl_sale  \\\n",
       "0  6033240110000277                 18     2014-07-17      2014-09-19   \n",
       "1  6033240110000284                 18     2014-07-19      2014-08-07   \n",
       "2  6033240110000316                 18     2014-07-30      2014-08-03   \n",
       "3  6033240110000314                 18     2014-07-30      2014-08-08   \n",
       "4  6033240110000315                 18     2014-07-30      2014-08-04   \n",
       "\n",
       "  days_inventory  wholesale_cogs  ttl_retail_sales  gross_profit  \\\n",
       "0        64 days          2700.0           7740.50       5040.50   \n",
       "1        19 days          1200.0           4436.00       3236.00   \n",
       "2         4 days          1760.0           5501.87       3741.87   \n",
       "3         9 days          1760.0           5313.60       3553.60   \n",
       "4         5 days          1760.0           5535.00       3775.00   \n",
       "\n",
       "   avg_daily_sales  avg_daily_gross  units_sold  \n",
       "0       120.945312        78.757812         150  \n",
       "1       233.473684       170.315789         100  \n",
       "2      1375.467500       935.467500         100  \n",
       "3       590.400000       394.844444          96  \n",
       "4      1107.000000       755.000000         100  "
      ]
     },
     "execution_count": 13,
     "metadata": {},
     "output_type": "execute_result"
    }
   ],
   "source": [
    "inv.head()"
   ]
  },
  {
   "cell_type": "code",
   "execution_count": 34,
   "metadata": {},
   "outputs": [],
   "source": [
    "rows = np.array([3,3,3,3,3])\n",
    "lowers = np.array([1,4,3])\n",
    "uppers = np.array([4,3,5])"
   ]
  },
  {
   "cell_type": "code",
   "execution_count": 35,
   "metadata": {},
   "outputs": [],
   "source": [
    "y, z = np.meshgrid(cols, rows)"
   ]
  },
  {
   "cell_type": "code",
   "execution_count": 36,
   "metadata": {},
   "outputs": [],
   "source": [
    "thing_one = y >= z\n",
    "thing_two = y <= z"
   ]
  },
  {
   "cell_type": "code",
   "execution_count": 37,
   "metadata": {},
   "outputs": [
    {
     "data": {
      "text/plain": [
       "(array([[False,  True,  True],\n",
       "        [False,  True,  True],\n",
       "        [False,  True,  True],\n",
       "        [False,  True,  True],\n",
       "        [False,  True,  True]], dtype=bool), array([[ True, False,  True],\n",
       "        [ True, False,  True],\n",
       "        [ True, False,  True],\n",
       "        [ True, False,  True],\n",
       "        [ True, False,  True]], dtype=bool))"
      ]
     },
     "execution_count": 37,
     "metadata": {},
     "output_type": "execute_result"
    }
   ],
   "source": [
    "thing_one, thing_two"
   ]
  },
  {
   "cell_type": "code",
   "execution_count": 38,
   "metadata": {},
   "outputs": [],
   "source": [
    "final = thing_one * thing_two"
   ]
  },
  {
   "cell_type": "code",
   "execution_count": 39,
   "metadata": {},
   "outputs": [
    {
     "data": {
      "text/plain": [
       "array([[False, False,  True],\n",
       "       [False, False,  True],\n",
       "       [False, False,  True],\n",
       "       [False, False,  True],\n",
       "       [False, False,  True]], dtype=bool)"
      ]
     },
     "execution_count": 39,
     "metadata": {},
     "output_type": "execute_result"
    }
   ],
   "source": [
    "final"
   ]
  },
  {
   "cell_type": "code",
   "execution_count": 40,
   "metadata": {},
   "outputs": [],
   "source": [
    "wer = raw['wholesale_date'].as_matrix()"
   ]
  },
  {
   "cell_type": "code",
   "execution_count": 41,
   "metadata": {},
   "outputs": [
    {
     "data": {
      "text/plain": [
       "array(['2014-07-17T00:00:00.000000000', '2014-07-19T00:00:00.000000000',\n",
       "       '2014-07-30T00:00:00.000000000', '2014-07-30T00:00:00.000000000',\n",
       "       '2014-07-30T00:00:00.000000000', '2014-07-30T00:00:00.000000000',\n",
       "       '2014-07-30T00:00:00.000000000', '2014-07-31T00:00:00.000000000',\n",
       "       '2014-07-31T00:00:00.000000000', '2014-07-31T00:00:00.000000000',\n",
       "       '2014-07-31T00:00:00.000000000', '2014-07-31T00:00:00.000000000',\n",
       "       '2014-07-31T00:00:00.000000000', '2014-08-16T00:00:00.000000000',\n",
       "       '2014-08-16T00:00:00.000000000', '2014-08-16T00:00:00.000000000',\n",
       "       '2014-08-16T00:00:00.000000000', '2014-08-16T00:00:00.000000000',\n",
       "       '2014-08-16T00:00:00.000000000', '2014-08-22T00:00:00.000000000',\n",
       "       '2014-08-29T00:00:00.000000000', '2014-08-30T00:00:00.000000000',\n",
       "       '2014-09-04T00:00:00.000000000', '2014-09-04T00:00:00.000000000',\n",
       "       '2014-09-04T00:00:00.000000000', '2014-09-04T00:00:00.000000000',\n",
       "       '2014-09-04T00:00:00.000000000', '2014-09-04T00:00:00.000000000',\n",
       "       '2014-09-08T00:00:00.000000000', '2014-09-08T00:00:00.000000000',\n",
       "       '2014-09-09T00:00:00.000000000', '2014-09-09T00:00:00.000000000',\n",
       "       '2014-09-09T00:00:00.000000000', '2014-09-09T00:00:00.000000000',\n",
       "       '2014-09-09T00:00:00.000000000', '2014-09-09T00:00:00.000000000',\n",
       "       '2014-09-09T00:00:00.000000000', '2014-09-09T00:00:00.000000000',\n",
       "       '2014-09-09T00:00:00.000000000', '2014-09-09T00:00:00.000000000',\n",
       "       '2014-09-09T00:00:00.000000000', '2014-09-09T00:00:00.000000000',\n",
       "       '2014-09-24T00:00:00.000000000', '2014-09-25T00:00:00.000000000',\n",
       "       '2014-09-25T00:00:00.000000000', '2014-10-02T00:00:00.000000000',\n",
       "       '2014-10-02T00:00:00.000000000', '2014-10-02T00:00:00.000000000',\n",
       "       '2014-10-02T00:00:00.000000000', '2014-10-02T00:00:00.000000000',\n",
       "       '2014-10-02T00:00:00.000000000', '2014-10-02T00:00:00.000000000',\n",
       "       '2014-10-08T00:00:00.000000000', '2014-10-08T00:00:00.000000000',\n",
       "       '2014-10-21T00:00:00.000000000', '2014-10-28T00:00:00.000000000',\n",
       "       '2014-10-28T00:00:00.000000000', '2014-10-28T00:00:00.000000000',\n",
       "       '2014-10-28T00:00:00.000000000', '2014-10-28T00:00:00.000000000',\n",
       "       '2014-10-28T00:00:00.000000000', '2014-10-28T00:00:00.000000000',\n",
       "       '2014-10-28T00:00:00.000000000', '2014-10-28T00:00:00.000000000',\n",
       "       '2014-10-28T00:00:00.000000000', '2014-10-28T00:00:00.000000000',\n",
       "       '2014-10-28T00:00:00.000000000', '2014-10-30T00:00:00.000000000',\n",
       "       '2014-11-11T00:00:00.000000000', '2014-11-13T00:00:00.000000000',\n",
       "       '2014-11-13T00:00:00.000000000', '2014-11-13T00:00:00.000000000',\n",
       "       '2014-11-13T00:00:00.000000000', '2014-11-21T00:00:00.000000000',\n",
       "       '2014-11-21T00:00:00.000000000', '2014-11-21T00:00:00.000000000',\n",
       "       '2014-11-21T00:00:00.000000000', '2014-11-21T00:00:00.000000000',\n",
       "       '2014-11-22T00:00:00.000000000', '2014-11-22T00:00:00.000000000',\n",
       "       '2014-12-19T00:00:00.000000000', '2014-12-19T00:00:00.000000000',\n",
       "       '2014-12-25T00:00:00.000000000', '2014-12-29T00:00:00.000000000',\n",
       "       '2014-12-29T00:00:00.000000000', '2014-12-31T00:00:00.000000000',\n",
       "       '2015-01-08T00:00:00.000000000', '2015-01-18T00:00:00.000000000',\n",
       "       '2015-01-18T00:00:00.000000000', '2015-01-18T00:00:00.000000000',\n",
       "       '2015-01-18T00:00:00.000000000', '2015-01-18T00:00:00.000000000',\n",
       "       '2015-01-18T00:00:00.000000000', '2015-01-21T00:00:00.000000000',\n",
       "       '2015-01-21T00:00:00.000000000', '2015-01-22T00:00:00.000000000',\n",
       "       '2015-01-22T00:00:00.000000000', '2015-01-22T00:00:00.000000000',\n",
       "       '2015-01-22T00:00:00.000000000', '2015-01-22T00:00:00.000000000',\n",
       "       '2015-01-22T00:00:00.000000000', '2015-01-22T00:00:00.000000000',\n",
       "       '2015-01-22T00:00:00.000000000', '2015-01-22T00:00:00.000000000',\n",
       "       '2015-01-25T00:00:00.000000000', '2015-02-01T00:00:00.000000000',\n",
       "       '2015-02-01T00:00:00.000000000', '2015-02-04T00:00:00.000000000',\n",
       "       '2015-02-19T00:00:00.000000000', '2015-03-03T00:00:00.000000000',\n",
       "       '2015-03-06T00:00:00.000000000', '2015-03-06T00:00:00.000000000',\n",
       "       '2015-03-11T00:00:00.000000000', '2015-03-11T00:00:00.000000000',\n",
       "       '2015-03-11T00:00:00.000000000', '2015-03-12T00:00:00.000000000',\n",
       "       '2015-03-25T00:00:00.000000000', '2015-04-02T00:00:00.000000000',\n",
       "       '2015-04-06T00:00:00.000000000', '2015-04-06T00:00:00.000000000',\n",
       "       '2015-04-06T00:00:00.000000000', '2015-04-09T00:00:00.000000000',\n",
       "       '2015-04-09T00:00:00.000000000', '2015-04-09T00:00:00.000000000',\n",
       "       '2015-04-10T00:00:00.000000000', '2015-04-10T00:00:00.000000000',\n",
       "       '2015-04-13T00:00:00.000000000', '2015-04-13T00:00:00.000000000',\n",
       "       '2015-04-13T00:00:00.000000000', '2015-04-13T00:00:00.000000000',\n",
       "       '2015-04-15T00:00:00.000000000', '2015-04-15T00:00:00.000000000',\n",
       "       '2015-04-15T00:00:00.000000000', '2015-04-15T00:00:00.000000000',\n",
       "       '2015-04-15T00:00:00.000000000', '2015-04-15T00:00:00.000000000',\n",
       "       '2015-04-20T00:00:00.000000000', '2015-04-20T00:00:00.000000000',\n",
       "       '2015-04-22T00:00:00.000000000', '2015-04-23T00:00:00.000000000',\n",
       "       '2015-04-23T00:00:00.000000000', '2015-04-23T00:00:00.000000000',\n",
       "       '2015-04-28T00:00:00.000000000', '2015-04-28T00:00:00.000000000',\n",
       "       '2015-04-29T00:00:00.000000000', '2015-05-06T00:00:00.000000000',\n",
       "       '2015-05-06T00:00:00.000000000', '2015-05-08T00:00:00.000000000',\n",
       "       '2015-05-08T00:00:00.000000000', '2015-05-08T00:00:00.000000000',\n",
       "       '2015-05-08T00:00:00.000000000', '2015-05-08T00:00:00.000000000',\n",
       "       '2015-05-08T00:00:00.000000000', '2015-05-11T00:00:00.000000000',\n",
       "       '2015-05-11T00:00:00.000000000', '2015-05-11T00:00:00.000000000',\n",
       "       '2015-05-13T00:00:00.000000000', '2015-05-14T00:00:00.000000000',\n",
       "       '2015-05-15T00:00:00.000000000', '2015-05-15T00:00:00.000000000',\n",
       "       '2015-05-15T00:00:00.000000000', '2015-05-15T00:00:00.000000000',\n",
       "       '2015-05-17T00:00:00.000000000', '2015-05-17T00:00:00.000000000',\n",
       "       '2015-05-20T00:00:00.000000000', '2015-05-20T00:00:00.000000000',\n",
       "       '2015-05-20T00:00:00.000000000', '2015-05-20T00:00:00.000000000',\n",
       "       '2015-05-22T00:00:00.000000000', '2015-05-22T00:00:00.000000000',\n",
       "       '2015-05-22T00:00:00.000000000', '2015-05-22T00:00:00.000000000'], dtype='datetime64[ns]')"
      ]
     },
     "execution_count": 41,
     "metadata": {},
     "output_type": "execute_result"
    }
   ],
   "source": [
    "wer"
   ]
  },
  {
   "cell_type": "code",
   "execution_count": null,
   "metadata": {},
   "outputs": [],
   "source": []
  }
 ],
 "metadata": {
  "anaconda-cloud": {},
  "kernelspec": {
   "display_name": "Python [conda root]",
   "language": "python",
   "name": "conda-root-py"
  },
  "language_info": {
   "codemirror_mode": {
    "name": "ipython",
    "version": 2
   },
   "file_extension": ".py",
   "mimetype": "text/x-python",
   "name": "python",
   "nbconvert_exporter": "python",
   "pygments_lexer": "ipython2",
   "version": "2.7.14"
  }
 },
 "nbformat": 4,
 "nbformat_minor": 2
}
