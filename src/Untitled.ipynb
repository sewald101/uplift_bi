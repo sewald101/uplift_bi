{
 "cells": [
  {
   "cell_type": "code",
   "execution_count": 5,
   "metadata": {},
   "outputs": [],
   "source": [
    "import numpy as np\n",
    "import pandas as pd\n",
    "import matplotlib.pyplot as plt\n",
    "\n",
    "from graph_trends import (currency_bool, format_currency, format_units)"
   ]
  },
  {
   "cell_type": "code",
   "execution_count": 19,
   "metadata": {},
   "outputs": [],
   "source": [
    "M = [1254909.5498, 454567.543, 34567.467, 23456.23466]\n",
    "K = [-234509.3065, 234567.456, 23456, 34000]\n",
    "C = [945.4709, 345, 568.345, 246]\n",
    "D = [-386.7887, 280.8764, 359.34667]\n",
    "O = [0.54679, 1.3456, -0.0087, 0.3456]"
   ]
  },
  {
   "cell_type": "code",
   "execution_count": 28,
   "metadata": {},
   "outputs": [],
   "source": [
    "def default_data_format(x_arr, curr_bool):\n",
    "    \"\"\"Return list of formatted data labels based on currency detection and max(abs(x)).\"\"\"\n",
    "    formatted = []\n",
    "    max_x = max(max(x_arr), abs(min(x_arr)))\n",
    "    if curr_bool:\n",
    "        if max_x > 999999:\n",
    "            for x in x_arr:\n",
    "                formatted.append(format_currency(x, millions=True))\n",
    "        elif max_x > 199:\n",
    "            for x in x_arr:\n",
    "                formatted.append(format_currency(x, dollars=True))\n",
    "        else:\n",
    "            for x in x_arr:\n",
    "                formatted.append(format_currency(x))\n",
    "    else:\n",
    "        if max_x > 999999:\n",
    "            for x in x_arr:\n",
    "                formatted.append(format_units(x, millions=True))\n",
    "        if max_x > 499:\n",
    "            for x in x_arr:\n",
    "                formatted.append(format_units(x, round_to_int=True))\n",
    "        else:\n",
    "            for x in x_arr:\n",
    "                formatted.append(format_units(x))\n",
    "        \n",
    "    return formatted"
   ]
  },
  {
   "cell_type": "code",
   "execution_count": 39,
   "metadata": {},
   "outputs": [],
   "source": [
    "def manual_data_format(x_arr, curr_bool, millions_bool=None, ints_bool=None, dec=3):\n",
    "    \"\"\"Format x_labels according to user specifications\"\"\"  \n",
    "    formatted = []\n",
    "    if curr_bool:\n",
    "        if millions_bool:\n",
    "            for x in x_arr:\n",
    "                formatted.append(format_currency(x, millions=True))\n",
    "            return formatted \n",
    "        elif ints_bool:\n",
    "            for x in x_arr:\n",
    "                formatted.append(format_currency(x, dollars=True))\n",
    "            return formatted\n",
    "        else:\n",
    "            for x in x_arr:\n",
    "                formatted.append(format_currency(x))\n",
    "            return formatted\n",
    "    else:\n",
    "        if millions_bool:\n",
    "            for x in x_arr:\n",
    "                formatted.append(format_units(x, millions=True))\n",
    "            return formatted\n",
    "        if ints_bool:\n",
    "            for x in x_arr:\n",
    "                formatted.append(format_units(x, round_to_int=True))\n",
    "            return formatted\n",
    "        else:\n",
    "            for x in x_arr:\n",
    "                formatted.append(format_units(x, decimals=dec))\n",
    "            return formatted\n",
    "        "
   ]
  },
  {
   "cell_type": "code",
   "execution_count": 41,
   "metadata": {},
   "outputs": [
    {
     "name": "stdout",
     "output_type": "stream",
     "text": [
      "['$1.255M', '$0.455M', '$0.035M', '$0.023M']\n",
      "['1.255M', '0.455M', '0.035M', '0.023M']\n",
      "['-$0.235M', '$0.235M', '$0.023M', '$0.034M']\n",
      "['-234,509', '234,567', '23,456', '34,000']\n"
     ]
    }
   ],
   "source": [
    "print manual_data_format(M, 1, 1)\n",
    "print manual_data_format(M, 0, 1)\n",
    "print manual_data_format(K, 1, 1)\n",
    "print manual_data_format(K, 0, ints_bool=1)\n",
    "# print manual_data_format(C, 1, True)\n",
    "# print manual_data_format(C, 0, False)\n",
    "# print manual_data_format(D, 1,True)\n",
    "# print manual_data_format(D, 0,False)\n",
    "# print manual_data_format(O, 1,True)\n",
    "# print manual_data_format(O, 0, False)"
   ]
  },
  {
   "cell_type": "code",
   "execution_count": 31,
   "metadata": {},
   "outputs": [],
   "source": [
    "p, q = 1, 0"
   ]
  },
  {
   "cell_type": "code",
   "execution_count": 33,
   "metadata": {},
   "outputs": [
    {
     "name": "stdout",
     "output_type": "stream",
     "text": [
      "hi\n"
     ]
    }
   ],
   "source": [
    "if p:\n",
    "    print 'hi'"
   ]
  },
  {
   "cell_type": "code",
   "execution_count": null,
   "metadata": {},
   "outputs": [],
   "source": []
  }
 ],
 "metadata": {
  "anaconda-cloud": {},
  "kernelspec": {
   "display_name": "Python [conda root]",
   "language": "python",
   "name": "conda-root-py"
  },
  "language_info": {
   "codemirror_mode": {
    "name": "ipython",
    "version": 2
   },
   "file_extension": ".py",
   "mimetype": "text/x-python",
   "name": "python",
   "nbconvert_exporter": "python",
   "pygments_lexer": "ipython2",
   "version": "2.7.14"
  }
 },
 "nbformat": 4,
 "nbformat_minor": 2
}
